{
 "cells": [
  {
   "cell_type": "markdown",
   "metadata": {},
   "source": []
  },
  {
   "cell_type": "markdown",
   "metadata": {},
   "source": [
    "# ¿Qué es Machine Learning?"
   ]
  },
  {
   "cell_type": "markdown",
   "metadata": {},
   "source": [
    "Fundamentalmente, el aprendizaje automático implica construir modelos matemáticos para ayudar a entender los datos.\n",
    "\"Aprendizaje\" entra en la contienda cuando le damos a estos modelos parámetros ajustables que pueden adaptarse a los datos observados; De esta manera, se puede considerar que el programa está \"aprendiendo\" de los datos.\n",
    "Una vez que estos modelos se han ajustado a los datos vistos anteriormente, se pueden usar para predecir y comprender aspectos de los datos recientemente observados."
   ]
  },
  {
   "cell_type": "markdown",
   "metadata": {},
   "source": [
    "## categorías de ML\n",
    "\n",
    " En el nivel más fundamental, el aprendizaje automático se puede clasificar en dos tipos principales: aprendizaje supervisado y aprendizaje no supervisado.\n",
    "\n",
    "El **aprendizaje supervisado** implica modelar de alguna manera la relación entre las características medidas de los datos y alguna etiqueta asociada con los datos; Una vez que se determina este modelo, se puede usar para aplicar etiquetas a datos nuevos y desconocidos. Esto se subdivide en tareas de clasificación y de regresión: en la clasificación, las etiquetas son categorías discretas, mientras que en la regresión, las etiquetas son cantidades continuas.\n",
    "\n",
    "El **aprendizaje no supervisado** implica modelar las características de un conjunto de datos sin hacer referencia a ninguna etiqueta. Estos modelos incluyen tareas como la agrupación y la reducción de dimensionalidad."
   ]
  },
  {
   "cell_type": "markdown",
   "metadata": {},
   "source": [
    "## Ejemplo de aplicaciones"
   ]
  },
  {
   "cell_type": "markdown",
   "metadata": {},
   "source": [
    "### clasificación:\n",
    "\n",
    "Analizaremos una tarea de clasificación simple, en la que se le asigna un conjunto de puntos etiquetados y desea utilizarlos para clasificar algunos puntos sin etiquetar.\n",
    "\n",
    "Imagina que tenemos los datos que se muestran en esta figura:"
   ]
  },
  {
   "cell_type": "markdown",
   "metadata": {},
   "source": [
    "En la figura tenemos datos bidimensionales: representadas por las posiciones *(x,y)* de los puntos en el plano.\n",
    "Además, tenemos una de las dos etiquetas de clase para cada punto, aquí representadas por los colores de los puntos.\n",
    "A partir de estas características y etiquetas, nos gustaría crear un modelo que nos permita decidir si un nuevo punto debe etiquetarse como \"azul\" or \"rojo.\"\n",
    "\n",
    "Existen varios modelos posibles para una tarea de clasificación de este tipo, pero aquí usaremos uno extremadamente simple. Supondremos que los dos grupos se pueden separar trazando una línea recta a través del plano entre ellos.\n",
    "Aquí, el modelo es una versión cuantitativa de la declaración  \"una linea recta que separa las clases\", ientras que los parámetros del modelo son los números particulares que describen la localización y orientación de los datos.\n",
    "Los valores óptimos para estos parámetros del modelo se aprenden de los datos (este es el \"aprendizaje\" en el aprendizaje automático), que a menudo se denomina **entrenamiento del modelo**.\n",
    "\n",
    "La siguiente figura representa un modelo entrenado:"
   ]
  },
  {
   "cell_type": "markdown",
   "metadata": {},
   "source": [
    "![](figures/05.01-classification-2.png)\n",
    "[figure source in Appendix](06.00-Figure-Code.ipynb#Classification-Example-Figure-2)"
   ]
  },
  {
   "cell_type": "markdown",
   "metadata": {},
   "source": [
    "Ahora que este modelo ha sido entrenado, se puede generalizar a datos nuevos, sin etiquetar.\n",
    " En otras palabras, podemos tomar un nuevo conjunto de datos, dibujar esta línea de modelo a través de él y asignar etiquetas a los nuevos puntos basados en este modelo.\n",
    "Esta etapa se suele llamar **predicción**. Vea la siguiente figura::"
   ]
  },
  {
   "cell_type": "markdown",
   "metadata": {},
   "source": [
    "![](figures/05.01-classification-3.png)\n",
    "[figure source in Appendix](06.00-Figure-Code.ipynb#Classification-Example-Figure-3)"
   ]
  },
  {
   "cell_type": "markdown",
   "metadata": {},
   "source": [
    "### Regression\n",
    "\n",
    "A diferencia de las etiquetas discretas de un algoritmo de clasificación.\n",
    "\n",
    "Considere los datos que se muestran en la siguiente figura, que consiste en un conjunto de puntos cada uno con una etiqueta continua:"
   ]
  },
  {
   "cell_type": "markdown",
   "metadata": {},
   "source": [
    "![](figures/05.01-regression-2.png)\n",
    "[figure source in Appendix](06.00-Figure-Code.ipynb#Regression-Example-Figure-2)"
   ]
  },
  {
   "cell_type": "markdown",
   "metadata": {},
   "source": [
    "![](figures/05.01-regression-3.png)\n",
    "[figure source in Appendix](06.00-Figure-Code.ipynb#Regression-Example-Figure-3)"
   ]
  },
  {
   "cell_type": "markdown",
   "metadata": {},
   "source": [
    "![](figures/05.01-regression-4.png)\n",
    "[figure source in Appendix](06.00-Figure-Code.ipynb#Regression-Example-Figure-4)"
   ]
  },
  {
   "cell_type": "markdown",
   "metadata": {},
   "source": [
    "### Clusterizado (clustering): etiquetas sobre datos no etiquetados\n",
    "\n",
    "Un caso común de aprendizaje no supervisado es el \"agrupamiento\", en el que los datos se asignan automáticamente a un número determinado de grupos discretos.\n",
    "Por ejemplo, podríamos tener algunos datos bidimensionales como los que se muestran en la siguiente figura:"
   ]
  },
  {
   "cell_type": "markdown",
   "metadata": {},
   "source": [
    "![](figures/05.01-clustering-1.png)\n",
    "[figure source in Appendix](06.00-Figure-Code.ipynb#Clustering-Example-Figure-2)"
   ]
  },
  {
   "cell_type": "markdown",
   "metadata": {},
   "source": [
    "Dada esta entrada, un modelo de agrupación utilizará la estructura intrínseca de los datos para determinar qué puntos están relacionados.\n",
    "Usando el algoritmo **k-means** muy rápido e intuitivo, encontramos los clusters que se muestran en la siguiente figura:"
   ]
  },
  {
   "cell_type": "markdown",
   "metadata": {},
   "source": [
    "![](figures/05.01-clustering-2.png)\n",
    "[figure source in Appendix](06.00-Figure-Code.ipynb#Clustering-Example-Figure-2)"
   ]
  },
  {
   "cell_type": "markdown",
   "metadata": {},
   "source": [
    "k-means se ajusta a un modelo que consiste en k centros de cluster; se supone que los centros óptimos son aquellos que minimizan la distancia de cada punto desde su centro asignado."
   ]
  },
  {
   "cell_type": "markdown",
   "metadata": {},
   "source": [
    "### Reducción de dimensionalidad\n",
    "\n",
    "Reducción de la dimensionalidad: las etiquetas u otra información se deducen de la estructura del conjunto de datos en sí.\n",
    "Generalmente busca extraer una representación de datos de baja dimensión que de alguna manera conserva las cualidades relevantes del conjunto de datos completo.\n",
    "\n",
    "Por ejemplo:"
   ]
  },
  {
   "cell_type": "markdown",
   "metadata": {},
   "source": [
    "![](figures/05.01-dimesionality-1.png)\n",
    "[figure source in Appendix](06.00-Figure-Code.ipynb#Dimensionality-Reduction-Example-Figure-1)"
   ]
  },
  {
   "cell_type": "markdown",
   "metadata": {},
   "source": [
    "La siguiente figura muestra resultados de un algoritno Isomap,  un algoritmo de aprendizaje manifold:"
   ]
  },
  {
   "cell_type": "markdown",
   "metadata": {},
   "source": [
    "![](figures/05.01-dimesionality-2.png)\n",
    "[figure source in Appendix](06.00-Figure-Code.ipynb#Dimensionality-Reduction-Example-Figure-2)"
   ]
  },
  {
   "cell_type": "markdown",
   "metadata": {},
   "source": [
    "Observe que los colores (variables) cambian uniformemente a lo largo de la espiral, lo que indica que el algoritmo detectó de hecho la estructura que vimos a simple vista.\n",
    "Al igual que con los ejemplos anteriores, el poder de los algoritmos de reducción de dimensionalidad se vuelve más claro en los casos de dimensiones superiores.\n",
    "Por ejemplo, podríamos desear visualizar relaciones importantes dentro de un conjunto de datos que tiene 100 o 1,000 características.\n",
    "Visualizar datos de 1.000 dimensiones es un desafío, una forma en que podemos hacerlo más manejable es usar una técnica de reducción de dimensionalidad para reducir los datos a dos o tres dimensiones."
   ]
  },
  {
   "cell_type": "markdown",
   "metadata": {},
   "source": [
    "<!--NAVIGATION-->\n",
    "< [Machine Learning](05.00-Machine-Learning.ipynb) | [Contents](Index.ipynb) | [Introducing Scikit-Learn](05.02-Introducing-Scikit-Learn.ipynb) >\n",
    "\n",
    "<a href=\"https://colab.research.google.com/github/jakevdp/PythonDataScienceHandbook/blob/master/notebooks/05.01-What-Is-Machine-Learning.ipynb\"><img align=\"left\" src=\"https://colab.research.google.com/assets/colab-badge.svg\" alt=\"Open in Colab\" title=\"Open and Execute in Google Colaboratory\"></a>\n"
   ]
  }
 ],
 "metadata": {
  "anaconda-cloud": {},
  "kernelspec": {
   "display_name": "Python 3",
   "language": "python",
   "name": "python3"
  },
  "language_info": {
   "codemirror_mode": {
    "name": "ipython",
    "version": 3
   },
   "file_extension": ".py",
   "mimetype": "text/x-python",
   "name": "python",
   "nbconvert_exporter": "python",
   "pygments_lexer": "ipython3",
   "version": "3.6.5"
  }
 },
 "nbformat": 4,
 "nbformat_minor": 1
}
